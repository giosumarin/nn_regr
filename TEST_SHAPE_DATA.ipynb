{
 "cells": [
  {
   "cell_type": "code",
   "execution_count": 1,
   "metadata": {},
   "outputs": [],
   "source": [
    "import pickle\n",
    "import gzip\n",
    "import numpy as np\n",
    "from numpy.random import seed\n",
    "import sys\n",
    "import h5py\n",
    "import time \n",
    "from math import floor, sqrt, ceil\n",
    "from sklearn.preprocessing import MinMaxScaler\n",
    "from itertools import chain"
   ]
  },
  {
   "cell_type": "code",
   "execution_count": 72,
   "metadata": {},
   "outputs": [],
   "source": [
    "from NN_no_hidden import NN as NN1"
   ]
  },
  {
   "cell_type": "code",
   "execution_count": 71,
   "metadata": {},
   "outputs": [],
   "source": [
    "def make_structured_input_for_root_NN(bin_data, labels, split, dim_set):\n",
    "    position_labels = np.copy(labels)\n",
    "    size_batch = dim_set // split\n",
    "    remain = dim_set % split #ceil((dim_set / split - size_batch) * split)\n",
    "    for i in range(0, split, 1):\n",
    "        position_labels[(i*size_batch):(((i+1)*size_batch if i < (split-1) else (i+1)*size_batch+remain))]=i\n",
    "    \n",
    "    position_labels = np.reshape(position_labels, (-1,1))\n",
    "    splitted_labels = [np.reshape(labels[(i*size_batch):(((i+1)*size_batch if i < (split-1) else (i+1)*size_batch+remain))], (-1,1)) for i in range(split)]\n",
    "    splitted_bin_data = [bin_data[(i*size_batch):(((i+1)*size_batch if i < (split-1) else (i+1)*size_batch+remain))] for i in range(split)] \n",
    "    \n",
    "    perm_splitted_bin_data = []\n",
    "    perm_splitted_labels = []\n",
    "    for i in range(split):\n",
    "        #np.random.RandomState(42)\n",
    "        p_split = np.random.RandomState(seed=0).permutation(len(splitted_bin_data[i]))    \n",
    "        perm_splitted_labels.append(splitted_labels[i][p_split])\n",
    "        perm_splitted_bin_data.append(splitted_bin_data[i][p_split])\n",
    "    "
   ]
  },
  {
   "cell_type": "code",
   "execution_count": 73,
   "metadata": {},
   "outputs": [
    {
     "ename": "TypeError",
     "evalue": "cannot unpack non-iterable NoneType object",
     "output_type": "error",
     "traceback": [
      "\u001b[0;31m---------------------------------------------------------------------------\u001b[0m",
      "\u001b[0;31mTypeError\u001b[0m                                 Traceback (most recent call last)",
      "\u001b[0;32m<ipython-input-73-d2f0308025ce>\u001b[0m in \u001b[0;36m<module>\u001b[0;34m\u001b[0m\n\u001b[1;32m      7\u001b[0m     \u001b[0mdim_set\u001b[0m \u001b[0;34m=\u001b[0m \u001b[0mlen\u001b[0m\u001b[0;34m(\u001b[0m\u001b[0mbin_data\u001b[0m\u001b[0;34m)\u001b[0m\u001b[0;34m\u001b[0m\u001b[0;34m\u001b[0m\u001b[0m\n\u001b[1;32m      8\u001b[0m \u001b[0mlabels\u001b[0m \u001b[0;34m=\u001b[0m \u001b[0mnp\u001b[0m\u001b[0;34m.\u001b[0m\u001b[0mlinspace\u001b[0m\u001b[0;34m(\u001b[0m\u001b[0;36m1\u001b[0m\u001b[0;34m,\u001b[0m \u001b[0mlen\u001b[0m\u001b[0;34m(\u001b[0m\u001b[0mbin_data\u001b[0m\u001b[0;34m)\u001b[0m\u001b[0;34m,\u001b[0m \u001b[0mnum\u001b[0m\u001b[0;34m=\u001b[0m\u001b[0mlen\u001b[0m\u001b[0;34m(\u001b[0m\u001b[0mbin_data\u001b[0m\u001b[0;34m)\u001b[0m\u001b[0;34m,\u001b[0m \u001b[0mdtype\u001b[0m\u001b[0;34m=\u001b[0m\u001b[0mnp\u001b[0m\u001b[0;34m.\u001b[0m\u001b[0mint64\u001b[0m\u001b[0;34m)\u001b[0m\u001b[0;34m\u001b[0m\u001b[0;34m\u001b[0m\u001b[0m\n\u001b[0;32m----> 9\u001b[0;31m \u001b[0mbin_data\u001b[0m\u001b[0;34m,\u001b[0m \u001b[0msplitted_bin_data\u001b[0m\u001b[0;34m,\u001b[0m \u001b[0mposition_labels\u001b[0m\u001b[0;34m,\u001b[0m \u001b[0msplitted_labels\u001b[0m \u001b[0;34m=\u001b[0m \u001b[0mmake_structured_input_for_root_NN\u001b[0m\u001b[0;34m(\u001b[0m\u001b[0mbin_data\u001b[0m\u001b[0;34m,\u001b[0m \u001b[0mlabels\u001b[0m\u001b[0;34m,\u001b[0m \u001b[0msplit\u001b[0m\u001b[0;34m,\u001b[0m \u001b[0mdim_set\u001b[0m\u001b[0;34m)\u001b[0m\u001b[0;34m\u001b[0m\u001b[0;34m\u001b[0m\u001b[0m\n\u001b[0m",
      "\u001b[0;31mTypeError\u001b[0m: cannot unpack non-iterable NoneType object"
     ]
    }
   ],
   "source": [
    "split = 1\n",
    "with h5py.File('Resource2/file3uniform_bin.sorted.mat','r') as f:\n",
    "    data = f.get('Sb') \n",
    "    bin_data = np.array(data, dtype=np.bool)\n",
    "    bin_data = np.transpose(bin_data)\n",
    "    bin_data = np.flip(bin_data,axis=1)\n",
    "    dim_set = len(bin_data)\n",
    "labels = np.linspace(1, len(bin_data), num=len(bin_data), dtype=np.int64)\n",
    "bin_data, splitted_bin_data, position_labels, splitted_labels = make_structured_input_for_root_NN(bin_data, labels, split, dim_set)"
   ]
  },
  {
   "cell_type": "code",
   "execution_count": 55,
   "metadata": {},
   "outputs": [
    {
     "name": "stdout",
     "output_type": "stream",
     "text": [
      "33\n"
     ]
    }
   ],
   "source": [
    "i = 0\n",
    "while True:\n",
    "    if not np.any(bin_data[:,i]):\n",
    "        i += 1\n",
    "    else:\n",
    "        print(i)\n",
    "        break;"
   ]
  },
  {
   "cell_type": "code",
   "execution_count": 57,
   "metadata": {},
   "outputs": [
    {
     "data": {
      "text/plain": [
       "True"
      ]
     },
     "execution_count": 57,
     "metadata": {},
     "output_type": "execute_result"
    }
   ],
   "source": [
    "np.any(bin_data[:,63])"
   ]
  },
  {
   "cell_type": "code",
   "execution_count": 58,
   "metadata": {},
   "outputs": [],
   "source": [
    "x = bin_data[:,i:bin_data.shape[1]]"
   ]
  },
  {
   "cell_type": "code",
   "execution_count": 59,
   "metadata": {},
   "outputs": [
    {
     "data": {
      "text/plain": [
       "(512, 31)"
      ]
     },
     "execution_count": 59,
     "metadata": {},
     "output_type": "execute_result"
    }
   ],
   "source": [
    "x.shape"
   ]
  },
  {
   "cell_type": "code",
   "execution_count": 60,
   "metadata": {},
   "outputs": [
    {
     "data": {
      "text/plain": [
       "True"
      ]
     },
     "execution_count": 60,
     "metadata": {},
     "output_type": "execute_result"
    }
   ],
   "source": [
    "np.any(x)"
   ]
  },
  {
   "cell_type": "code",
   "execution_count": 78,
   "metadata": {},
   "outputs": [
    {
     "data": {
      "text/plain": [
       "True"
      ]
     },
     "execution_count": 78,
     "metadata": {},
     "output_type": "execute_result"
    }
   ],
   "source": [
    "np.any(bin_data[:,0:64])"
   ]
  },
  {
   "cell_type": "code",
   "execution_count": 66,
   "metadata": {},
   "outputs": [],
   "source": [
    "N_FEATURES = 64-33\n",
    "N_CLASSES = 1"
   ]
  },
  {
   "cell_type": "code",
   "execution_count": 67,
   "metadata": {},
   "outputs": [],
   "source": [
    "weights = np.random.RandomState(seed=0).normal(loc=0., scale = 0.05 ,size=(N_FEATURES, N_CLASSES)).astype(np.float32)\n",
    "bias = np.random.RandomState(seed=0).normal(loc=0., scale = 0.05 ,size=(1, N_CLASSES)).astype(np.float32)\n",
    "w= [[weights, bias]]"
   ]
  },
  {
   "cell_type": "code",
   "execution_count": 68,
   "metadata": {},
   "outputs": [
    {
     "ename": "SyntaxError",
     "evalue": "invalid syntax (<ipython-input-68-520444b7c293>, line 1)",
     "output_type": "error",
     "traceback": [
      "\u001b[0;36m  File \u001b[0;32m\"<ipython-input-68-520444b7c293>\"\u001b[0;36m, line \u001b[0;32m1\u001b[0m\n\u001b[0;31m    nn = NN1.NN(training=[bin_data, splitted_labels, testing=[[0],[0]], lr=1e-3, mu=0.9, output_classes=1, lambd=0, minibatch=64, disableLog=True)\u001b[0m\n\u001b[0m                                                            ^\u001b[0m\n\u001b[0;31mSyntaxError\u001b[0m\u001b[0;31m:\u001b[0m invalid syntax\n"
     ]
    }
   ],
   "source": [
    "nn = NN1.NN(training=[bin_data, splitted_labels], testing=[[0],[0]], lr=1e-3, mu=0.9, output_classes=1, lambd=0, minibatch=64, disableLog=True)\n",
    "nn.addLayers(['leakyrelu'], ww)\n",
    "nn.set_patience(10)\n",
    "loss = nn.train(stop_function=3, num_epochs=20000)"
   ]
  },
  {
   "cell_type": "code",
   "execution_count": null,
   "metadata": {},
   "outputs": [],
   "source": [
    "predict = nn.predict(splitted_bin_data[s])\n",
    "pr = np.ceil((np.multiply(predict,predict>0)))\n",
    "lab = splitted_labels[s]\n",
    "max_err = np.max(np.abs(pr-lab)).astype(\"int64\")\n",
    "max_errs.append(max_err)"
   ]
  }
 ],
 "metadata": {
  "kernelspec": {
   "display_name": "Python 3",
   "language": "python",
   "name": "python3"
  },
  "language_info": {
   "codemirror_mode": {
    "name": "ipython",
    "version": 3
   },
   "file_extension": ".py",
   "mimetype": "text/x-python",
   "name": "python",
   "nbconvert_exporter": "python",
   "pygments_lexer": "ipython3",
   "version": "3.7.1"
  }
 },
 "nbformat": 4,
 "nbformat_minor": 2
}
